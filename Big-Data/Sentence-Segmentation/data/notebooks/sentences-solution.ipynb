{
 "cells": [
  {
   "cell_type": "markdown",
   "metadata": {},
   "source": [
    "## Sentence Segmentation"
   ]
  },
  {
   "cell_type": "markdown",
   "metadata": {},
   "source": [
    "### Setup und Helpers"
   ]
  },
  {
   "cell_type": "code",
   "execution_count": 2,
   "metadata": {},
   "outputs": [
    {
     "name": "stdout",
     "output_type": "stream",
     "text": [
      "Collecting nltk\n",
      "\u001b[?25l  Downloading https://files.pythonhosted.org/packages/f6/1d/d925cfb4f324ede997f6d47bea4d9babba51b49e87a767c170b77005889d/nltk-3.4.5.zip (1.5MB)\n",
      "\u001b[K     |████████████████████████████████| 1.5MB 5.0MB/s eta 0:00:01\n",
      "\u001b[?25hRequirement already satisfied: six in /opt/conda/lib/python3.7/site-packages (from nltk) (1.12.0)\n",
      "Building wheels for collected packages: nltk\n",
      "  Building wheel for nltk (setup.py) ... \u001b[?25ldone\n",
      "\u001b[?25h  Created wheel for nltk: filename=nltk-3.4.5-cp37-none-any.whl size=1449906 sha256=6037a680c6eb62c018e97d624f018c78b846f7018ac51d4665843793429835cb\n",
      "  Stored in directory: /home/jovyan/.cache/pip/wheels/96/86/f6/68ab24c23f207c0077381a5e3904b2815136b879538a24b483\n",
      "Successfully built nltk\n",
      "Installing collected packages: nltk\n",
      "Successfully installed nltk-3.4.5\n"
     ]
    }
   ],
   "source": [
    "!pip install nltk"
   ]
  },
  {
   "cell_type": "code",
   "execution_count": 12,
   "metadata": {},
   "outputs": [
    {
     "name": "stderr",
     "output_type": "stream",
     "text": [
      "[nltk_data] Downloading package punkt to /home/jovyan/nltk_data...\n",
      "[nltk_data]   Unzipping tokenizers/punkt.zip.\n"
     ]
    },
    {
     "data": {
      "text/plain": [
       "True"
      ]
     },
     "execution_count": 12,
     "metadata": {},
     "output_type": "execute_result"
    }
   ],
   "source": [
    "import pyspark\n",
    "import findspark\n",
    "import nltk\n",
    "import re\n",
    "\n",
    "findspark.init()\n",
    "nltk.download(\"punkt\")"
   ]
  },
  {
   "cell_type": "markdown",
   "metadata": {},
   "source": [
    "### Übung 1\n",
    "\n",
    "Sparkcontext mit dem Namen \"sentences\" initialisieren"
   ]
  },
  {
   "cell_type": "code",
   "execution_count": 6,
   "metadata": {},
   "outputs": [],
   "source": [
    "sc = pyspark.SparkContext(appName=\"sentences\")"
   ]
  },
  {
   "cell_type": "markdown",
   "metadata": {},
   "source": [
    "### Übung 2\n",
    "\n",
    "Mittels des Sparkcontext das dataFile laden und einer Variable dataRDD zuweisen."
   ]
  },
  {
   "cell_type": "code",
   "execution_count": 7,
   "metadata": {},
   "outputs": [],
   "source": [
    "def readData(dataFile):\n",
    "    global sc\n",
    "    dataRDD = sc.textFile(dataFile)\n",
    "    return dataRDD"
   ]
  },
  {
   "cell_type": "code",
   "execution_count": 8,
   "metadata": {},
   "outputs": [],
   "source": [
    "def printRDD(rdd, part = True):\n",
    "    if (part):\n",
    "        for i in rdd.take(30):\n",
    "            print(i,\"\\n\")\n",
    "    else:\n",
    "        for i in rdd.collect():\n",
    "            print(i,\"\\n\")  "
   ]
  },
  {
   "cell_type": "code",
   "execution_count": 9,
   "metadata": {},
   "outputs": [],
   "source": [
    "dataRDD = readData(\"mobydick.txt\")"
   ]
  },
  {
   "cell_type": "markdown",
   "metadata": {},
   "source": [
    "### Übung 3\n",
    "\n",
    "Konvertiere die Linien im dataRDD in Sätze. Du brauchst die folgenen Methoden\n",
    "glom(): Effizent eine Liste von Sätzen erstellen, dies sich auf dem Worker Node befindet\n",
    "map(): Zusammenführen der Linien\n",
    "flatMap(): Die NLTK Sentence Segmentation anwenden"
   ]
  },
  {
   "cell_type": "code",
   "execution_count": 13,
   "metadata": {},
   "outputs": [],
   "source": [
    "# convert dataRDD from lines to sentences\n",
    "# glom(): efficiently create list of sentences from the data partition that resides on the respective worker node\n",
    "# map(): merge lines \n",
    "# flatMap(): apply NLTK sentence segmentation\n",
    "sentencesRDD = dataRDD \\\n",
    "    .glom() \\\n",
    "    .map(lambda x: \" \".join(x)) \\\n",
    "    .flatMap(lambda x: nltk.sent_tokenize(x)) # apply NLTK sentence segmentation"
   ]
  },
  {
   "cell_type": "code",
   "execution_count": 14,
   "metadata": {},
   "outputs": [
    {
     "name": "stdout",
     "output_type": "stream",
     "text": [
      "9181\n"
     ]
    }
   ],
   "source": [
    "print(sentencesRDD.count())"
   ]
  },
  {
   "cell_type": "markdown",
   "metadata": {},
   "source": [
    "### Übung 4\n",
    "\n",
    "Erstelle ein \"questionsRDD\" dieses RDD sollte nur alle Sätze beinhaltet die eine Frage sind. Gibt diese Sätze mit print aus."
   ]
  },
  {
   "cell_type": "code",
   "execution_count": 15,
   "metadata": {},
   "outputs": [
    {
     "name": "stdout",
     "output_type": "stream",
     "text": [
      "908\n",
      "Does the Whale’s Magnitude Diminish?—Will He Perish? \n",
      "\n",
      "“And pray, sir, what in the world is equal to it?” —_Edmund Burke’s   reference in Parliament to the Nantucket Whale-Fishery_. \n",
      "\n",
      "Mr. Chace, what is the matter?” I answered, “we have been   stove by a whale.” —“_Narrative of the Shipwreck of the Whale Ship   Essex of Nantucket, which was attacked and finally destroyed by a   large Sperm Whale in the Pacific Ocean_.” _By Owen Chace of   Nantucket, first mate of said vessel. \n",
      "\n",
      "“Where away?” demanded the captain. \n",
      "\n",
      "Do you see that whale now?” “Ay ay, sir! \n",
      "\n",
      "there—there—_thar_ she   blows—bowes—bo-o-os!” “How far off?” “Two miles and a half.” “Thunder   and lightning! \n",
      "\n",
      "What do you see?—Posted like silent sentinels all around the town, stand thousands upon thousands of mortal men fixed in ocean reveries. \n",
      "\n",
      "How then is this? \n",
      "\n",
      "Are the green fields gone? \n",
      "\n",
      "What do they here? \n",
      "\n",
      "Tell me, does the magnetic virtue of the needles of the compasses of all those ships attract them thither? \n",
      "\n",
      "What is the chief element he employs? \n",
      "\n",
      "Go visit the Prairies in June, when for scores on scores of miles you wade knee-deep among Tiger-lilies—what is the one charm wanting?—Water—there is not a drop of water there! \n",
      "\n",
      "Were Niagara but a cataract of sand, would you travel your thousand miles to see it? \n",
      "\n",
      "Why did the poor poet of Tennessee, upon suddenly receiving two handfuls of silver, deliberate whether to buy him a coat, which he sadly needed, or invest his money in a pedestrian trip to Rockaway Beach? \n",
      "\n",
      "Why is almost every robust healthy boy with a robust healthy soul in him, at some time or other crazy to go to sea? \n",
      "\n",
      "Why upon your first voyage as a passenger, did you yourself feel such a mystical vibration, when first told that you and your ship were now out of sight of land? \n",
      "\n",
      "Why did the old Persians hold the sea holy? \n",
      "\n",
      "Why did the Greeks give it a separate deity, and own brother of Jove? \n",
      "\n",
      "What of it, if some old hunks of a sea-captain orders me to get a broom and sweep down the decks? \n",
      "\n",
      "What does that indignity amount to, weighed, I mean, in the scales of the New Testament? \n",
      "\n",
      "Do you think the archangel Gabriel thinks anything the less of me, because I promptly and respectfully obey that old hunks in that particular instance? \n",
      "\n",
      "Who ain’t a slave? \n",
      "\n",
      "But _being paid_,—what will compare with it? \n",
      "\n",
      "Where else but from Nantucket did those aboriginal whalemen, the Red-Men, first sally out in canoes to give chase to the Leviathan? \n",
      "\n",
      "And where but from Nantucket, too, did that first adventurous little sloop put forth, partly laden with imported cobblestones—so goes the story—to throw at the whales, in order to discover when they were nigh enough to risk a harpoon from the bowsprit? \n",
      "\n",
      "But go on, Ishmael, said I at last; don’t you hear? \n",
      "\n",
      "thought I, ha, as the flying particles almost choked me, are these ashes from that destroyed city, Gomorrah? \n",
      "\n",
      "But “The Crossed Harpoons,” and “The Sword-Fish?”—this, then must needs be the sign of “The Trap.” However, I picked myself up and hearing a loud voice within, pushed on and opened a second, interior door. \n",
      "\n",
      "Ha, Ishmael, muttered I, backing out, Wretched entertainment at the sign of ‘The Trap!’  Moving on, I at last came to a dim sort of light not far from the docks, and heard a forlorn creaking in the air; and looking up, saw a swinging sign over the door with a white painting upon it, faintly representing a tall straight jet of misty spray, and these words underneath—“The Spouter Inn:—Peter Coffin.”  Coffin?—Spouter?—Rather ominous in that particular connexion, thought I. \n",
      "\n"
     ]
    }
   ],
   "source": [
    "#search for sentences with question mark\n",
    "questionsRDD = sentencesRDD.filter(lambda s: re.search(r'\\?', s))\n",
    "print(questionsRDD.count())\n",
    "printRDD(questionsRDD)"
   ]
  }
 ],
 "metadata": {
  "kernelspec": {
   "display_name": "Python 3",
   "language": "python",
   "name": "python3"
  },
  "language_info": {
   "codemirror_mode": {
    "name": "ipython",
    "version": 3
   },
   "file_extension": ".py",
   "mimetype": "text/x-python",
   "name": "python",
   "nbconvert_exporter": "python",
   "pygments_lexer": "ipython3",
   "version": "3.7.3"
  }
 },
 "nbformat": 4,
 "nbformat_minor": 2
}
